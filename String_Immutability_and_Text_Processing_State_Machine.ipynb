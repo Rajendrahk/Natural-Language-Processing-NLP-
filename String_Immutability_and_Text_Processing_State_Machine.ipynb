{
  "nbformat": 4,
  "nbformat_minor": 0,
  "metadata": {
    "colab": {
      "provenance": []
    },
    "kernelspec": {
      "name": "python3",
      "display_name": "Python 3"
    },
    "language_info": {
      "name": "python"
    }
  },
  "cells": [
    {
      "cell_type": "markdown",
      "source": [
        "**Python - String Immutability**"
      ],
      "metadata": {
        "id": "O17IsHKxxefP"
      }
    },
    {
      "cell_type": "code",
      "execution_count": 2,
      "metadata": {
        "colab": {
          "base_uri": "https://localhost:8080/",
          "height": 227
        },
        "id": "Ldhs_efbxwGC",
        "outputId": "787f34f1-4195-45a4-c2a1-06d71420a036"
      },
      "outputs": [
        {
          "output_type": "stream",
          "name": "stdout",
          "text": [
            "<class 'str'>\n"
          ]
        },
        {
          "output_type": "error",
          "ename": "TypeError",
          "evalue": "ignored",
          "traceback": [
            "\u001b[0;31m---------------------------------------------------------------------------\u001b[0m",
            "\u001b[0;31mTypeError\u001b[0m                                 Traceback (most recent call last)",
            "\u001b[0;32m<ipython-input-2-9d3b521debd4>\u001b[0m in \u001b[0;36m<cell line: 4>\u001b[0;34m()\u001b[0m\n\u001b[1;32m      2\u001b[0m \u001b[0mt\u001b[0m\u001b[0;34m=\u001b[0m \u001b[0;34m\"Sigma\"\u001b[0m\u001b[0;34m\u001b[0m\u001b[0;34m\u001b[0m\u001b[0m\n\u001b[1;32m      3\u001b[0m \u001b[0mprint\u001b[0m\u001b[0;34m(\u001b[0m\u001b[0mtype\u001b[0m\u001b[0;34m(\u001b[0m\u001b[0mt\u001b[0m\u001b[0;34m)\u001b[0m\u001b[0;34m)\u001b[0m\u001b[0;34m\u001b[0m\u001b[0;34m\u001b[0m\u001b[0m\n\u001b[0;32m----> 4\u001b[0;31m \u001b[0mt\u001b[0m\u001b[0;34m[\u001b[0m\u001b[0;36m0\u001b[0m\u001b[0;34m]\u001b[0m \u001b[0;34m=\u001b[0m \u001b[0;34m\"M\"\u001b[0m\u001b[0;34m\u001b[0m\u001b[0;34m\u001b[0m\u001b[0m\n\u001b[0m",
            "\u001b[0;31mTypeError\u001b[0m: 'str' object does not support item assignment"
          ]
        }
      ],
      "source": [
        "# Can not reassign\n",
        "t= \"Sigma\"\n",
        "print(type(t))\n",
        "t[0] = \"M\""
      ]
    },
    {
      "cell_type": "markdown",
      "source": [
        "We can further verify this by checking the memory location address of the position of the letters of the string."
      ],
      "metadata": {
        "id": "BQhZWaO1x46p"
      }
    },
    {
      "cell_type": "code",
      "source": [
        "x = 'banana'\n",
        "\n",
        "for idx in range (0,6):\n",
        "    print(x[idx], \"=\", id(x[idx]))"
      ],
      "metadata": {
        "colab": {
          "base_uri": "https://localhost:8080/"
        },
        "id": "OXhMyNvvy59U",
        "outputId": "ccdaef5f-cb8d-4a57-c5e9-e219bfc8427a"
      },
      "execution_count": 5,
      "outputs": [
        {
          "output_type": "stream",
          "name": "stdout",
          "text": [
            "b = 132999080432688\n",
            "a = 132999080541936\n",
            "n = 132999080691120\n",
            "a = 132999080541936\n",
            "n = 132999080691120\n",
            "a = 132999080541936\n"
          ]
        }
      ]
    },
    {
      "cell_type": "markdown",
      "source": [
        " When we run the above program we get the following output. As you can see above ‘a’, ‘a’ and ‘a’ point to same location. Also ‘n’ and ‘n’ also point to the same location."
      ],
      "metadata": {
        "id": "OkJcZlKsxn3V"
      }
    },
    {
      "cell_type": "markdown",
      "source": [
        "**Text Processing State Machine**"
      ],
      "metadata": {
        "id": "N-OIGPYBv3aa"
      }
    },
    {
      "cell_type": "code",
      "source": [
        "class StateMachine:\n",
        "\n",
        "# Initialize\n",
        "    def start(self):\n",
        "        self.state = self.startState\n",
        "\n",
        "# Step through the input\n",
        "    def step(self, inp):\n",
        "        (s, o) = self.getNextValues(self.state, inp)\n",
        "        self.state = s\n",
        "        return o\n",
        "\n",
        "# Loop through the input\n",
        "    def feeder(self, inputs):\n",
        "        self.start()\n",
        "        return [self.step(inp) for inp in inputs]\n",
        "\n",
        "# Determine the TRUE or FALSE state\n",
        "class TextSeq(StateMachine):\n",
        "    startState = 0\n",
        "    def getNextValues(self, state, inp):\n",
        "        if state == 0 and inp == 'A':\n",
        "            return (1, True)\n",
        "        elif state == 1 and inp == 'G':\n",
        "            return (2, True)\n",
        "        elif state == 2 and inp == 'C':\n",
        "            return (0, True)\n",
        "        else:\n",
        "            return (3, False)\n",
        "\n",
        "\n",
        "InSeq = TextSeq()\n",
        "\n",
        "x = InSeq.feeder(['A','A','A'])\n",
        "print(x)\n",
        "\n",
        "y = InSeq.feeder(['A', 'G', 'C', 'A', 'C', 'A', 'G'])\n",
        "print(y)\n"
      ],
      "metadata": {
        "colab": {
          "base_uri": "https://localhost:8080/"
        },
        "id": "QdiQNPUZgI7H",
        "outputId": "19fc9fe8-7087-42bd-90ef-ea5ed5eb3741"
      },
      "execution_count": 3,
      "outputs": [
        {
          "output_type": "stream",
          "name": "stdout",
          "text": [
            "[True, False, False]\n",
            "[True, True, True, True, False, False, False]\n"
          ]
        }
      ]
    }
  ]
}